{
 "cells": [
  {
   "cell_type": "markdown",
   "metadata": {},
   "source": [
    "# How to plot a phase envelope\n",
    "## in PxT coordinates, for liquid vapor equilibria, given z\n",
    "## using your friend's fortran code."
   ]
  },
  {
   "cell_type": "markdown",
   "metadata": {},
   "source": [
    "# 1. make fortran\n",
    "The first step is building his code into a library\n",
    "\n",
    "This step is operational system dependent\n",
    "\n",
    "## on ubuntu\n",
    " see make and gfortran for example\n",
    " \n",
    "## on windows\n",
    " see mingw for example"
   ]
  },
  {
   "cell_type": "code",
   "execution_count": 1,
   "metadata": {
    "collapsed": true
   },
   "outputs": [],
   "source": [
    "#make\n"
   ]
  },
  {
   "cell_type": "markdown",
   "metadata": {},
   "source": [
    "# write inputs"
   ]
  },
  {
   "cell_type": "code",
   "execution_count": 2,
   "metadata": {
    "collapsed": true
   },
   "outputs": [],
   "source": [
    "#write"
   ]
  },
  {
   "cell_type": "markdown",
   "metadata": {},
   "source": [
    "# call fortran\n",
    "\n",
    "To make calls to the library's functions we can take several approaches\n",
    "\n",
    "Here we chose to use the python package ctypes which will work with a generic binary library file\n",
    "\n",
    "We use it to creat pointers in our python script to functions from the library and then we are able to call these functions.\n",
    "\n",
    ">- for c specific methodologies see also *cython*\n",
    ">- for fortran specific methodologies see also *f2py*\n"
   ]
  },
  {
   "cell_type": "code",
   "execution_count": 3,
   "metadata": {
    "collapsed": false
   },
   "outputs": [
    {
     "data": {
      "text/plain": [
       "<CDLL '../fortran_library/bin/Trace_The_Envelope.so', handle 2a5b930 at 0x7ff400655dd8>"
      ]
     },
     "execution_count": 3,
     "metadata": {},
     "output_type": "execute_result"
    }
   ],
   "source": [
    "from ctypes import *\n",
    "\n",
    "#we call the method LoadLibrary and pass as argument a relative path to our library to load it to the python enviroment\n",
    "#this line may be OS dependent, check for the slash or backslash directory navigation syntax\n",
    "cdll.LoadLibrary(\"../fortran_library/bin/Trace_The_Envelope.so\")\n",
    "#the expected output is:\n",
    "#>>> <CDLL '../fortran_library/bin/Trace_The_Envelope.so', handle 1e3b860 at 0x7fd098b9bc88>"
   ]
  },
  {
   "cell_type": "code",
   "execution_count": 4,
   "metadata": {
    "collapsed": false
   },
   "outputs": [],
   "source": [
    "#we use the method CDLL to create a pointer Trace_The_Envelope to that library\n",
    "Trace_The_Envelope = CDLL(\"../fortran_library/bin/Trace_The_Envelope.so\")\n",
    "\n",
    "#we can call its functions as we would call functions in python packages\n",
    "#attention should be paid to differences in underscores in the function names as in the src code and as in the compiling library, due the compiler actions.\n",
    "_=Trace_The_Envelope.main_()"
   ]
  },
  {
   "cell_type": "code",
   "execution_count": 5,
   "metadata": {
    "collapsed": false
   },
   "outputs": [
    {
     "name": "stdout",
     "output_type": "stream",
     "text": [
      "10 loops, best of 3: 21.5 ms per loop\n"
     ]
    }
   ],
   "source": [
    "#we can even use ipython' timeit method to analyze the performance of that library\n",
    "%timeit _=Trace_The_Envelope.main_()\n",
    "#(note that, as there are read/write commands on the fortran main function\n",
    "#this will read/write the input/output files as many times as the profiler choose to loop the call)"
   ]
  },
  {
   "cell_type": "markdown",
   "metadata": {},
   "source": [
    "# read outputs\n",
    "We should know how the library works when we use it, in this case our phase envelope library prints the results in a file named output.csv\n",
    "we will use python loadtxt method to read it"
   ]
  },
  {
   "cell_type": "code",
   "execution_count": 8,
   "metadata": {
    "collapsed": true
   },
   "outputs": [],
   "source": [
    "import numpy as np\n",
    "from matplotlib import pyplot as plt\n",
    "%matplotlib inline"
   ]
  },
  {
   "cell_type": "code",
   "execution_count": 9,
   "metadata": {
    "collapsed": false
   },
   "outputs": [
    {
     "name": "stdout",
     "output_type": "stream",
     "text": [
      "[' Liq' '  0.50000000000000000      ' '   388.94726785159855      '\n",
      " '   4.5750739756748163E-002 ' '  0.95424926024325396      ' '']\n",
      "[' Vap' '  0.50502988370684931      ' '   354.63531683611052      '\n",
      " '  0.85003996409913996      ' '  0.14996003590086018      ' '']\n"
     ]
    }
   ],
   "source": [
    "data = np.loadtxt(\"output/output.csv\", delimiter=\",\", dtype=bytes, \n",
    "                  skiprows=1 #skip first row because the heading is incomplete in the csv\n",
    "                 ).astype(str)\n",
    "\n",
    "#see first line\n",
    "print(data[0,:])\n",
    "\n",
    "#see last line\n",
    "print(data[-1,:])\n",
    "\n",
    "#record the identification flags in variables for posterior usage\n",
    "idLiq = data[0,0]\n",
    "idVap = data[-1,0]"
   ]
  },
  {
   "cell_type": "code",
   "execution_count": 10,
   "metadata": {
    "collapsed": false
   },
   "outputs": [
    {
     "name": "stdout",
     "output_type": "stream",
     "text": [
      "[  5.00000000e-01   3.88947268e+02   4.57507398e-02]\n",
      "[   0.50502988  354.63531684    0.85003996]\n",
      "63609.6593168\n"
     ]
    }
   ],
   "source": [
    "#keep column [0] in list as string, convert columns [1,2,3] to numpy array\n",
    "\n",
    "numdata = (np.asarray((data[:,1:4]))).astype(np.float)\n",
    "\n",
    "#see first line\n",
    "print(numdata[0][:])\n",
    "\n",
    "#see last line\n",
    "print(numdata[-1][:])\n",
    "\n",
    "# see that they are really understood as float\n",
    "print(sum(sum(numdata))) #if they can be summed for example, they are really numbers"
   ]
  },
  {
   "cell_type": "code",
   "execution_count": 11,
   "metadata": {
    "collapsed": false
   },
   "outputs": [
    {
     "name": "stdout",
     "output_type": "stream",
     "text": [
      "[ 0.5         0.55258546  0.61070138  0.6749294   0.74591235]\n",
      "[' Liq' ' Liq' ' Liq' ' Liq' ' Liq']\n",
      "[ 0.5         0.55258546  0.61070138  0.6749294   0.74591235]\n"
     ]
    }
   ],
   "source": [
    "#split numdata into Pbub and Pdew according to the flags provided by the calculation program\n",
    "\n",
    "Pbub = numdata[:,0][ np.where( data[:,0] == idLiq )]\n",
    "Tbub = numdata[:,1][ np.where( data[:,0] == idLiq )]\n",
    "\n",
    "Pdew = numdata[:,0][ np.where( data[:,0] == idVap )]\n",
    "Tdew = numdata[:,1][ np.where( data[:,0] == idVap )]\n",
    "\n",
    "#check\n",
    "print(numdata[0:5,0])\n",
    "print(data[0:5,0])\n",
    "print(Pbub[0:5])"
   ]
  },
  {
   "cell_type": "markdown",
   "metadata": {},
   "source": [
    "# plot\n",
    "we will use matplotlib tools, are in our lectures, to create plots with our output data."
   ]
  },
  {
   "cell_type": "code",
   "execution_count": 12,
   "metadata": {
    "collapsed": false
   },
   "outputs": [
    {
     "data": {
      "image/png": "[encoded data removed]",
      "text/plain": [
       "<matplotlib.figure.Figure at 0x77906d8>"
      ]
     },
     "metadata": {},
     "output_type": "display_data"
    }
   ],
   "source": [
    "plt.plot(Tbub,Pbub)\n",
    "plt.plot(Tdew,Pdew)\n",
    "\n",
    "plt.xlabel('T') #use matplotlib's  mathtext to create special symbols in the x label\n",
    "plt.ylabel('P') #y label for the second subplot\n",
    "\n",
    "plt.show()"
   ]
  },
  {
   "cell_type": "code",
   "execution_count": 34,
   "metadata": {
    "collapsed": false
   },
   "outputs": [
    {
     "name": "stderr",
     "output_type": "stream",
     "text": [
      "C:\\Users\\iuri\\Anaconda3\\lib\\site-packages\\matplotlib\\figure.py:397: UserWarning: matplotlib is currently using a non-GUI backend, so cannot show the figure\n",
      "  \"matplotlib is currently using a non-GUI backend, \"\n"
     ]
    },
    {
     "data": {
      "image/png": "[encoded data removed]",
      "text/plain": [
       "<matplotlib.figure.Figure at 0x12f10a20>"
      ]
     },
     "metadata": {},
     "output_type": "display_data"
    }
   ],
   "source": [
    "# GRAPHICAL ABSTRACT\n",
    "%matplotlib inline\n",
    "from matplotlib import rcParams as rc\n",
    "\n",
    "fig_width = 9 / 2.54 #in inches\n",
    "fig_height = 9 / 2.54 #in inches\n",
    "fig_size =  [fig_width,fig_height]\n",
    "\n",
    "#FONTS & TICKS\\n\",\n",
    "params = {'backend': 'ps',\n",
    "'axes.labelsize': 12,  #in pts\n",
    "'font.size': 8, #in pts\n",
    "'legend.fontsize': 8, #in pts\n",
    "'xtick.labelsize': 10, #in pts\n",
    "'ytick.labelsize': 10, #in pts\n",
    "'text.usetex': False,\n",
    "'figure.figsize': fig_size}\n",
    "rc.update(params)\n",
    "\n",
    "GAfig, GAax1 = plt.subplots(1,1)\n",
    "\n",
    "GAax1.plot(Tbub,Pbub*1e5)\n",
    "GAax1.plot(Tdew,Pdew*1e5)\n",
    "\n",
    "\n",
    "labels = [r'$P_{bub}(x_W)$', r'$P_{dew}(y_W)$']\n",
    "\n",
    "plt.legend(labels, loc=2)\n",
    "\n",
    "GAax1.set_title('[water; ethanol] \\n LVE at ' + '351.55' + ' K')\n",
    "\n",
    "GAax1.set_ylabel(r'$P(\\mathrm{Pa})$')\n",
    "GAax1.set_xlabel(r'$T(\\mathrm{K})$')\n",
    "\n",
    "GAax1.set_title('[0.3 (n-hexane); 0.7 (n-nonane)] \\n' + r'$P \\times T$' + ' phase envelope')\n",
    "\n",
    "GAfig.subplots_adjust(left=0.17, right=0.9, top=0.9, bottom=0.14)\n",
    "\n",
    "GAax1.ticklabel_format(style = 'sci', axis='y', scilimits=(0,0))\n",
    "\n",
    "GAfig.savefig('fig4.png', dpi=1000)\n",
    "\n",
    "GAfig.show()\n",
    "\n",
    "#min em T aqui: http://www.ddbst.com/en/EED/VLE/VLE%20Acetone%3BWater.php\n",
    "\n"
   ]
  },
  {
   "cell_type": "markdown",
   "metadata": {},
   "source": [
    "# conclusions\n",
    "* python is capable of integration with libraries developed in other languages, as many legacy scientific and engineering routines in fortran or c, or contemporary routines developed in these languages with special care for high performace computing in their own field, as some computational fluid dynamics or molecular simulation codes."
   ]
  },
  {
   "cell_type": "markdown",
   "metadata": {},
   "source": [
    "# references\n",
    "* Michelsen\n",
    "* ctypes\n",
    "* see also f2py\n",
    "* see also cython\n",
    "* see also fortran magic"
   ]
  },
  {
   "cell_type": "markdown",
   "metadata": {},
   "source": [
    "# credits\n",
    "* Developed by Rafael Pereira\n",
    "* Edited to ipynb format presentation by Iuri Segtovich"
   ]
  }
 ],
 "metadata": {
  "anaconda-cloud": {},
  "kernelspec": {
   "display_name": "Python [Root]",
   "language": "python",
   "name": "Python [Root]"
  },
  "language_info": {
   "codemirror_mode": {
    "name": "ipython",
    "version": 3
   },
   "file_extension": ".py",
   "mimetype": "text/x-python",
   "name": "python",
   "nbconvert_exporter": "python",
   "pygments_lexer": "ipython3",
   "version": "3.5.2"
  }
 },
 "nbformat": 4,
 "nbformat_minor": 1
}
