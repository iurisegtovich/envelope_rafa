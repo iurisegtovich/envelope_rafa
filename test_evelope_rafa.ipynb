{
 "cells": [
  {
   "cell_type": "code",
   "execution_count": 1,
   "metadata": {},
   "outputs": [
    {
     "name": "stdout",
     "output_type": "stream",
     "text": [
      "init\n",
      "4.0\n"
     ]
    }
   ],
   "source": [
    "from envelope_rafa_pkg import minterface"
   ]
  },
  {
   "cell_type": "code",
   "execution_count": 2,
   "metadata": {},
   "outputs": [
    {
     "data": {
      "text/plain": [
       "1"
      ]
     },
     "execution_count": 2,
     "metadata": {},
     "output_type": "execute_result"
    }
   ],
   "source": [
    "minterface.doit()"
   ]
  },
  {
   "cell_type": "markdown",
   "metadata": {},
   "source": [
    "# read outputs\n",
    "We should know how the library works when we use it, in this case our phase envelope library prints the results in a file named output.csv\n",
    "we will use python loadtxt method to read it"
   ]
  },
  {
   "cell_type": "code",
   "execution_count": 3,
   "metadata": {},
   "outputs": [],
   "source": [
    "import numpy as np\n",
    "from matplotlib import pyplot as plt"
   ]
  },
  {
   "cell_type": "code",
   "execution_count": 4,
   "metadata": {},
   "outputs": [
    {
     "name": "stdout",
     "output_type": "stream",
     "text": [
      "[' Liq' '  0.50000000000000000      ' '   388.94726785159855      '\n",
      " '   4.5750739756748163E-002 ' '  0.95424926024325396      ' '']\n",
      "[' Vap' '  0.50502988370684931      ' '   354.63531683611052      '\n",
      " '  0.85003996409913996      ' '  0.14996003590086018      ' '']\n"
     ]
    }
   ],
   "source": [
    "data = np.loadtxt(\"output/output.csv\", delimiter=\",\", dtype=bytes, \n",
    "                  skiprows=1 #skip first row because the heading is incomplete in the csv\n",
    "                 ).astype(str)\n",
    "\n",
    "#see first line\n",
    "print(data[0,:])\n",
    "\n",
    "#see last line\n",
    "print(data[-1,:])\n",
    "\n",
    "#record the identification flags in variables for posterior usage\n",
    "idLiq = data[0,0]\n",
    "idVap = data[-1,0]"
   ]
  },
  {
   "cell_type": "code",
   "execution_count": 5,
   "metadata": {},
   "outputs": [
    {
     "name": "stdout",
     "output_type": "stream",
     "text": [
      "[5.00000000e-01 3.88947268e+02 4.57507398e-02]\n",
      "[  0.50502988 354.63531684   0.85003996]\n",
      "63609.65931680354\n"
     ]
    }
   ],
   "source": [
    "#keep column [0] in list as string, convert columns [1,2,3] to numpy array\n",
    "\n",
    "numdata = (np.asarray((data[:,1:4]))).astype(np.float)\n",
    "\n",
    "#see first line\n",
    "print(numdata[0][:])\n",
    "\n",
    "#see last line\n",
    "print(numdata[-1][:])\n",
    "\n",
    "# see that they are really understood as float\n",
    "print(sum(sum(numdata))) #if they can be summed for example, they are really numbers"
   ]
  },
  {
   "cell_type": "code",
   "execution_count": 6,
   "metadata": {},
   "outputs": [
    {
     "name": "stdout",
     "output_type": "stream",
     "text": [
      "[0.5        0.55258546 0.61070138 0.6749294  0.74591235]\n",
      "[' Liq' ' Liq' ' Liq' ' Liq' ' Liq']\n",
      "[0.5        0.55258546 0.61070138 0.6749294  0.74591235]\n"
     ]
    }
   ],
   "source": [
    "#split numdata into Pbub and Pdew according to the flags provided by the calculation program\n",
    "\n",
    "Pbub = numdata[:,0][ np.where( data[:,0] == idLiq )]\n",
    "Tbub = numdata[:,1][ np.where( data[:,0] == idLiq )]\n",
    "\n",
    "Pdew = numdata[:,0][ np.where( data[:,0] == idVap )]\n",
    "Tdew = numdata[:,1][ np.where( data[:,0] == idVap )]\n",
    "\n",
    "#check\n",
    "print(numdata[0:5,0])\n",
    "print(data[0:5,0])\n",
    "print(Pbub[0:5])"
   ]
  },
  {
   "cell_type": "markdown",
   "metadata": {},
   "source": [
    "# plot\n",
    "we will use matplotlib tools, are in our lectures, to create plots with our output data."
   ]
  },
  {
   "cell_type": "code",
   "execution_count": 7,
   "metadata": {},
   "outputs": [
    {
     "data": {
      "image/png": "[encoded data removed]",
      "text/plain": [
       "<Figure size 432x288 with 1 Axes>"
      ]
     },
     "metadata": {
      "needs_background": "light"
     },
     "output_type": "display_data"
    }
   ],
   "source": [
    "plt.plot(Tbub,Pbub)\n",
    "plt.plot(Tdew,Pdew)\n",
    "\n",
    "plt.xlabel('T') #use matplotlib's  mathtext to create special symbols in the x label\n",
    "plt.ylabel('P') #y label for the second subplot\n",
    "\n",
    "plt.show()"
   ]
  },
  {
   "cell_type": "code",
   "execution_count": 8,
   "metadata": {},
   "outputs": [
    {
     "data": {
      "image/png": "[encoded data removed]",
      "text/plain": [
       "<Figure size 255.118x255.118 with 1 Axes>"
      ]
     },
     "metadata": {
      "needs_background": "light"
     },
     "output_type": "display_data"
    }
   ],
   "source": [
    "# GRAPHICAL ABSTRACT\n",
    "from matplotlib import rcParams as rc\n",
    "\n",
    "fig_width = 9 / 2.54 #in inches\n",
    "fig_height = 9 / 2.54 #in inches\n",
    "fig_size =  [fig_width,fig_height]\n",
    "\n",
    "#FONTS & TICKS\\n\",\n",
    "params = {\n",
    "'axes.labelsize': 12,  #in pts\n",
    "'font.size': 8, #in pts\n",
    "'legend.fontsize': 8, #in pts\n",
    "'xtick.labelsize': 10, #in pts\n",
    "'ytick.labelsize': 10, #in pts,\n",
    "'figure.figsize': fig_size}\n",
    "rc.update(params)\n",
    "\n",
    "GAfig, GAax1 = plt.subplots(1,1)\n",
    "\n",
    "GAax1.plot(Tbub,Pbub*1e5)\n",
    "GAax1.plot(Tdew,Pdew*1e5)\n",
    "\n",
    "\n",
    "labels = [r'$P_{bub}(x_W)$', r'$P_{dew}(y_W)$']\n",
    "\n",
    "plt.legend(labels, loc=2)\n",
    "\n",
    "GAax1.set_title('[water; ethanol] \\n LVE at ' + '351.55' + ' K')\n",
    "\n",
    "GAax1.set_ylabel(r'$P(\\mathrm{Pa})$')\n",
    "GAax1.set_xlabel(r'$T(\\mathrm{K})$')\n",
    "\n",
    "GAax1.set_title('[0.3 (n-hexane); 0.7 (n-nonane)] \\n' + r'$P \\times T$' + ' phase envelope')\n",
    "\n",
    "GAfig.subplots_adjust(left=0.17, right=0.9, top=0.9, bottom=0.14)\n",
    "\n",
    "GAax1.ticklabel_format(style = 'sci', axis='y', scilimits=(0,0))\n",
    "\n",
    "GAfig.savefig('fig4.png', dpi=1000)\n",
    "\n",
    "plt.show()\n",
    "\n",
    "#min em T aqui: http://www.ddbst.com/en/EED/VLE/VLE%20Acetone%3BWater.php\n",
    "\n"
   ]
  },
  {
   "cell_type": "markdown",
   "metadata": {},
   "source": [
    "# conclusions\n",
    "* python is capable of integration with libraries developed in other languages, as many legacy scientific and engineering routines in fortran or c, or contemporary routines developed in these languages with special care for high performace computing in their own field, as some computational fluid dynamics or molecular simulation codes."
   ]
  },
  {
   "cell_type": "markdown",
   "metadata": {},
   "source": [
    "# credits\n",
    "* Core developed by Rafael Pereira\n",
    "* Build procedure and python bindings by Iuri Segtovich using (pip, setuptools, mingw, anaconda, f2py)"
   ]
  }
 ],
 "metadata": {
  "anaconda-cloud": {},
  "kernelspec": {
   "display_name": "Python 3",
   "language": "python",
   "name": "python3"
  },
  "language_info": {
   "codemirror_mode": {
    "name": "ipython",
    "version": 3
   },
   "file_extension": ".py",
   "mimetype": "text/x-python",
   "name": "python",
   "nbconvert_exporter": "python",
   "pygments_lexer": "ipython3",
   "version": "3.7.4"
  }
 },
 "nbformat": 4,
 "nbformat_minor": 1
}
